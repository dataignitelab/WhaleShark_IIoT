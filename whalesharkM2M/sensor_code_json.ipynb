{
 "cells": [
  {
   "cell_type": "code",
   "execution_count": 16,
   "metadata": {},
   "outputs": [],
   "source": [
    "from config.info_reader import read_controller\n",
    "import binascii\n",
    "from datetime import datetime\n",
    "accessinfo_df = read_controller(filepath='config/controllerinfo.csv')"
   ]
  },
  {
   "cell_type": "code",
   "execution_count": 28,
   "metadata": {},
   "outputs": [
    {
     "name": "stdout",
     "output_type": "stream",
     "text": [
      "5356\n",
      "SV\n"
     ]
    }
   ],
   "source": [
    "x = 'SV'\n",
    "hex_function = x.encode().hex()\n",
    "print(hex_function)\n",
    "str_hex = binascii.unhexlify(hex_function)\n",
    "print(str_hex.decode('utf-8'))"
   ]
  },
  {
   "cell_type": "code",
   "execution_count": 30,
   "metadata": {},
   "outputs": [
    {
     "name": "stdout",
     "output_type": "stream",
     "text": [
      "2020122016511565\n"
     ]
    }
   ],
   "source": [
    "str_time = '%d%d%d%d%d%d%d' % (\n",
    "        now.year, now.month, now.day, now.hour, now.minute, now.second, now.microsecond / 1000)\n",
    "int_time = int(str_time)\n",
    "print(int_time)\n",
    "now_time = hex(int_time).replace('0x', '')"
   ]
  },
  {
   "cell_type": "code",
   "execution_count": 34,
   "metadata": {},
   "outputs": [
    {
     "name": "stdout",
     "output_type": "stream",
     "text": [
      "2020122016511565\n"
     ]
    }
   ],
   "source": [
    "print(int(now_time, 16))"
   ]
  },
  {
   "cell_type": "code",
   "execution_count": null,
   "metadata": {},
   "outputs": [],
   "source": []
  },
  {
   "cell_type": "code",
   "execution_count": 27,
   "metadata": {},
   "outputs": [
    {
     "name": "stdout",
     "output_type": "stream",
     "text": [
      "5056\n",
      "PV\n",
      "5056\n",
      "PV\n",
      "5056\n",
      "PV\n",
      "5056\n",
      "PV\n"
     ]
    }
   ],
   "source": [
    "for index, row in accessinfo_df.iterrows():\n",
    "    sensorid = row['SENSOR_CODE']\n",
    "    function_id = row['FUNCTION']\n",
    "    now = datetime.now()\n",
    "    str_time = '%d%d%d%d%d%d%d' % (\n",
    "        now.year, now.month, now.day, now.hour, now.minute, now.second, now.microsecond / 1000)\n",
    "    int_time = int(str_time)\n",
    "    now_time = hex(int_time).replace('0x', '')\n",
    "    status_dict = {}\n",
    "    status_dict['sensor_cd'] = hex(sensorid)\n",
    "    status_dict['fun_cd'] = hex(function_id)\n",
    "    status_dict['sensor_value'] = hex(202)\n",
    "    status_dict['decimal_point'] = hex(1)\n",
    "    status_dict['pub_time'] = now_time\n",
    "    measured_dict = {\n",
    "        'time': int_time,\n",
    "        'equipmentid':hex('TS')+hex('1'),\n",
    "        'meta': status_dict\n",
    "    }"
   ]
  },
  {
   "cell_type": "code",
   "execution_count": null,
   "metadata": {},
   "outputs": [],
   "source": []
  }
 ],
 "metadata": {
  "kernelspec": {
   "display_name": "Python 3",
   "language": "python",
   "name": "python3"
  },
  "language_info": {
   "codemirror_mode": {
    "name": "ipython",
    "version": 3
   },
   "file_extension": ".py",
   "mimetype": "text/x-python",
   "name": "python",
   "nbconvert_exporter": "python",
   "pygments_lexer": "ipython3",
   "version": "3.8.6"
  }
 },
 "nbformat": 4,
 "nbformat_minor": 4
}
